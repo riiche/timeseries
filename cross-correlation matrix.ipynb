{
 "cells": [
  {
   "cell_type": "code",
   "execution_count": 1,
   "metadata": {},
   "outputs": [],
   "source": [
    "import numpy as np\n",
    "import pandas as pd\n",
    "import seaborn as sns\n",
    "\n",
    "import matplotlib.pyplot as plt\n",
    "%matplotlib inline"
   ]
  },
  {
   "cell_type": "code",
   "execution_count": null,
   "metadata": {},
   "outputs": [],
   "source": []
  },
  {
   "cell_type": "code",
   "execution_count": 2,
   "metadata": {},
   "outputs": [],
   "source": [
    "#generate multivariate normal sample\n",
    "dim = 3\n",
    "T = 300\n",
    "\n",
    "mean = np.zeros(dim)\n",
    "cov = np.eye(dim)\n",
    "\n",
    "x = np.random.multivariate_normal(mean, cov, size=T)\n",
    "df = pd.DataFrame(x)"
   ]
  },
  {
   "cell_type": "code",
   "execution_count": null,
   "metadata": {},
   "outputs": [],
   "source": []
  },
  {
   "cell_type": "code",
   "execution_count": null,
   "metadata": {},
   "outputs": [],
   "source": []
  },
  {
   "cell_type": "markdown",
   "metadata": {},
   "source": [
    "$\n",
    "\\bar{z_t} = z_t - \\mu\n",
    "$\n"
   ]
  },
  {
   "cell_type": "code",
   "execution_count": 3,
   "metadata": {},
   "outputs": [],
   "source": [
    "#demean the multivariate time series\n",
    "\n",
    "def center(x):\n",
    "    return x - x.mean(axis=0)"
   ]
  },
  {
   "cell_type": "markdown",
   "metadata": {},
   "source": [
    "$\n",
    "\\hat{\\Gamma_l} = \\frac{1}{T-1}  \\sum_{t=l+1}^{T} (z_t-\\hat{\\mu_z})(z_{t-l}-\\hat{\\mu_z})\\prime\n",
    "$"
   ]
  },
  {
   "cell_type": "code",
   "execution_count": 4,
   "metadata": {},
   "outputs": [],
   "source": [
    "#cross-covariance matrix in Tsay notation\n",
    "\n",
    "\n",
    "def cross_covariance(x, lag=0):\n",
    "    T = x.shape[0]\n",
    "    dim = x.shape[1]\n",
    "\n",
    "    x_c = center(x)\n",
    "    if lag > 0:\n",
    "        x_t = x_c[lag:]\n",
    "        x_tl = x_c[:-lag]\n",
    "        summ = np.zeros([dim,dim])\n",
    "        for i in range(len(x_t)):\n",
    "            summ += x_t[i].reshape(dim,1).dot(x_tl[i].reshape(1,dim))\n",
    "        return summ / (T-1)\n",
    "    elif lag == 0:\n",
    "        return np.cov(x, rowvar=False)\n"
   ]
  },
  {
   "cell_type": "markdown",
   "metadata": {},
   "source": [
    "$\n",
    "\\hat{D} = diag(\\hat{\\gamma}^{1/2}_{0,11},...,\\hat{\\gamma}^{1/2}_{0,kk})\n",
    "$"
   ]
  },
  {
   "cell_type": "markdown",
   "metadata": {},
   "source": [
    "$\n",
    "\\hat{\\rho_l}= \\hat{D}^{-1}\\hat{\\Gamma_l}\\hat{D}^{-1}\n",
    "$"
   ]
  },
  {
   "cell_type": "code",
   "execution_count": 5,
   "metadata": {},
   "outputs": [],
   "source": [
    "#cross-correlation matrix\n",
    "#evaluates lagged correlations between different z_i,t and z_k,t-l\n",
    "\n",
    "def cross_correlation(x, lag=1):\n",
    "    T = x.shape[0]\n",
    "    dim = x.shape[1]\n",
    "\n",
    "    x_c = center(x)\n",
    "    corr = cross_covariance(x, lag)\n",
    "    gamma = np.linalg.inv(np.diag(np.sqrt(np.diagonal(cross_covariance(x,0)))))\n",
    "    return gamma.dot(corr).dot(gamma)"
   ]
  },
  {
   "cell_type": "code",
   "execution_count": null,
   "metadata": {},
   "outputs": [],
   "source": []
  },
  {
   "cell_type": "code",
   "execution_count": 9,
   "metadata": {},
   "outputs": [],
   "source": [
    "#simplified matrix in Tsay notation \n",
    "#in fact, evaluates whether cross-correlation matrix for certain lag has significant coeffs\n",
    "#the output is adjustable\n",
    "\n",
    "def simplified_matrix(x, lag=0):\n",
    "    ccm = cross_covariance(x,lag)\n",
    "    time = x.shape[0]\n",
    "    syms = ['+','-','.']\n",
    "    \n",
    "    s = np.empty(0)\n",
    "    for i in ccm.flatten():\n",
    "        if i >= 2/np.sqrt(time):\n",
    "            s = np.append(s, syms[0])\n",
    "        elif i <= -2/np.sqrt(time):\n",
    "            s = np.append(s, syms[1])\n",
    "        else:\n",
    "            s = np.append(s, syms[2])\n",
    "    return s.reshape(ccm.shape)\n",
    "    "
   ]
  },
  {
   "cell_type": "code",
   "execution_count": 21,
   "metadata": {},
   "outputs": [],
   "source": [
    "def plotter(x, lags=10):\n",
    "    time = x.shape[0]\n",
    "    ci = 2/np.sqrt(time)\n",
    "    dim = x.shape[1]\n",
    "    \n",
    "    collect = np.zeros(0)\n",
    "    for lag in np.arange(lags):\n",
    "        collect = np.append(collect, cross_correlation(x,lag).flatten())\n",
    "        \n",
    "    collect = collect.reshape(lags,dim,dim)    \n",
    "    fig, axs = plt.subplots(dim,dim,figsize=(4*dim,3*dim))\n",
    "    for i in range(dim):\n",
    "        for j in range(dim):\n",
    "            N = len(collect[:,i,j])\n",
    "            axs[i,j].axhline(0, color='black')\n",
    "            axs[i,j].axhline(ci, color='red', linestyle='--',linewidth=0.5)        \n",
    "            axs[i,j].axhline(-ci, color='red', linestyle='--',linewidth=0.5)\n",
    "\n",
    "            axs[i,j].plot(collect[:,i,j], '.', color='b',linewidth=0.5)\n",
    "            axs[i,j].vlines(np.arange(N), np.zeros(N), collect[:,i,j], color='b', alpha=0.5)\n",
    "            axs[i,j].set_ylim(-1.1,1.1)\n"
   ]
  },
  {
   "cell_type": "code",
   "execution_count": null,
   "metadata": {},
   "outputs": [],
   "source": []
  },
  {
   "cell_type": "code",
   "execution_count": null,
   "metadata": {},
   "outputs": [],
   "source": []
  },
  {
   "cell_type": "code",
   "execution_count": 17,
   "metadata": {},
   "outputs": [],
   "source": [
    "dim = 5\n",
    "T = 500\n",
    "\n",
    "mean = np.random.random(5)\n",
    "cov = np.random.random((5,5))\n",
    "cov = cov.T.dot(cov)\n",
    "\n",
    "x = np.random.multivariate_normal(mean, cov, size=T)"
   ]
  },
  {
   "cell_type": "code",
   "execution_count": 19,
   "metadata": {},
   "outputs": [
    {
     "data": {
      "text/plain": [
       "(array([0.78056139, 0.37271157, 0.68862557, 0.99665745, 0.6708584 ]),\n",
       " array([[1.54187171, 0.76418867, 1.65519158, 1.61549366, 1.29871456],\n",
       "        [0.76418867, 0.90138365, 0.72722249, 0.4006715 , 0.58132287],\n",
       "        [1.65519158, 0.72722249, 1.79452189, 1.79620924, 1.40991949],\n",
       "        [1.61549366, 0.4006715 , 1.79620924, 2.50526433, 1.65280594],\n",
       "        [1.29871456, 0.58132287, 1.40991949, 1.65280594, 1.43480329]]))"
      ]
     },
     "execution_count": 19,
     "metadata": {},
     "output_type": "execute_result"
    }
   ],
   "source": [
    "mean, cov"
   ]
  },
  {
   "cell_type": "code",
   "execution_count": null,
   "metadata": {},
   "outputs": [],
   "source": []
  },
  {
   "cell_type": "code",
   "execution_count": 23,
   "metadata": {},
   "outputs": [
    {
     "data": {
      "text/plain": [
       "array([[1.64849825, 0.88083493, 1.7558493 , 1.65975923, 1.32050357],\n",
       "       [0.88083493, 1.00169171, 0.84278167, 0.48085504, 0.63214305],\n",
       "       [1.7558493 , 0.84278167, 1.88843151, 1.83117259, 1.42411162],\n",
       "       [1.65975923, 0.48085504, 1.83117259, 2.42614961, 1.600943  ],\n",
       "       [1.32050357, 0.63214305, 1.42411162, 1.600943  , 1.38576306]])"
      ]
     },
     "execution_count": 23,
     "metadata": {},
     "output_type": "execute_result"
    }
   ],
   "source": [
    "cross_covariance(x, lag=0)"
   ]
  },
  {
   "cell_type": "code",
   "execution_count": 30,
   "metadata": {},
   "outputs": [
    {
     "data": {
      "text/plain": [
       "array([[-0.00973502, -0.01594919, -0.01083742, -0.02872008, -0.05719613],\n",
       "       [-0.0186764 , -0.04828558, -0.01547687, -0.0027805 , -0.03196404],\n",
       "       [-0.00954788, -0.01244609, -0.01110804, -0.03157911, -0.05957985],\n",
       "       [ 0.00502408,  0.00986982,  0.00274368, -0.04866478, -0.06180268],\n",
       "       [-0.01667048, -0.02907408, -0.0166605 , -0.04314775, -0.0816572 ]])"
      ]
     },
     "execution_count": 30,
     "metadata": {},
     "output_type": "execute_result"
    }
   ],
   "source": [
    "cross_correlation(x, lag=3)"
   ]
  },
  {
   "cell_type": "code",
   "execution_count": 29,
   "metadata": {},
   "outputs": [
    {
     "data": {
      "text/plain": [
       "array([['.', '.', '.', '.', '.'],\n",
       "       ['.', '.', '.', '.', '.'],\n",
       "       ['.', '.', '.', '.', '-'],\n",
       "       ['.', '.', '.', '-', '-'],\n",
       "       ['.', '.', '.', '.', '-']], dtype='<U32')"
      ]
     },
     "execution_count": 29,
     "metadata": {},
     "output_type": "execute_result"
    }
   ],
   "source": [
    "simplified_matrix(x, lag=3)"
   ]
  },
  {
   "cell_type": "code",
   "execution_count": null,
   "metadata": {},
   "outputs": [],
   "source": []
  },
  {
   "cell_type": "code",
   "execution_count": 22,
   "metadata": {},
   "outputs": [
    {
     "data": {
      "image/png": "[encoded data removed]",
      "text/plain": [
       "<Figure size 1440x1080 with 25 Axes>"
      ]
     },
     "metadata": {
      "needs_background": "light"
     },
     "output_type": "display_data"
    }
   ],
   "source": [
    "plotter(x)"
   ]
  },
  {
   "cell_type": "code",
   "execution_count": null,
   "metadata": {},
   "outputs": [],
   "source": []
  }
 ],
 "metadata": {
  "kernelspec": {
   "display_name": "Python 3",
   "language": "python",
   "name": "python3"
  },
  "language_info": {
   "codemirror_mode": {
    "name": "ipython",
    "version": 3
   },
   "file_extension": ".py",
   "mimetype": "text/x-python",
   "name": "python",
   "nbconvert_exporter": "python",
   "pygments_lexer": "ipython3",
   "version": "3.8.3"
  }
 },
 "nbformat": 4,
 "nbformat_minor": 4
}
